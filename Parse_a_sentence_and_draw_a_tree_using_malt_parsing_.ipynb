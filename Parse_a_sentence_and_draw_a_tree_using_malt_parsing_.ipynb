!apt-get install openjdk-8-jdk-headless -qq

!wget https://www.maltparser.org/mco/english_parser/engmalt.linear-1.7.mco
!wget https://www.maltparser.org/mco/mc0/english_parser/engmalt.linear-1.7.mco -P malt_parser

!pip install spacy

!python -m spacy download en

import spacy
from spacy import displacy

#Load the English language model
nlp = spacy.load("en_core_web_sm")

#Example Sentence
sentence = "Parse a sentence and draw a tree using malt parsing."

#Process the sentence
doc = nlp(sentence)

# visualize the dependency parse tree
displacy.render(doc, style="dep", jupyter=True)
