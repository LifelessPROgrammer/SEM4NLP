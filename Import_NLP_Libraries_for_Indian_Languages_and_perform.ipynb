!pip install inltk
!pip install tornado==4.5.3
!pip install torch

import nltk as nltk
from nltk.tokenize import word_tokenize
nltk.download('punkt')

hindi_text = """“आइए आज रेस करें और देखें कि कौन जीतेगा।” खरगोश कछुआ पर हँसा और कहा, “तुम मेरे खिलाफ जीतोगे?” “चलो दौड़ लगाये।” दौड़ शुरू होते ही खरगोश तेजी से दौड़ा और कछुआ धीरे-धीरे चलता रहा।

रास्ते में एक पेड़ के पास बहुत घास थी। खरगोश ने सोचा कि कछुआ बहुत पीछे है और वह जल्दी से जाकर घास खा जाएगा। और वह खाने लगा। खाना खाने के बाद उसे नींद आने लगी। वह उसी पेड़ के नीचे सो गया।"""

tokens = word_tokenize(hindi_text)
print(tokens)
