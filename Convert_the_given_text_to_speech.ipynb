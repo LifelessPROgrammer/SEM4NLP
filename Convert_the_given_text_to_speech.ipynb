from playsound import playsound
from gtts import gTTS
from pydub import AudioSegment
from pydub.playback import play
import pygame

mytext = 'Hello World'

language = 'en'

myobj = gTTS(text=mytext, lang=language, slow=False)

myobj.save("conversion.mp3")
