import nltk
from nltk.tokenize import MWETokenizer
nltk.download('punkt')
from nltk import sent_tokenize, word_tokenize

s = '''Good books of foreign author cost Rs.1000/-. Please buy one of me.\n\nThanks.'''

mwe = MWETokenizer([('New', 'York'), ('Hong', 'Kong')], separator='_')

for sent in sent_tokenize(s):
  print(mwe.tokenize(word_tokenize(sent)))
