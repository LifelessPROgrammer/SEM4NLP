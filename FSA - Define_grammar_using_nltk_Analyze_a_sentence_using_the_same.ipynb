import nltk
from nltk import tokenize
groucho_grammar = nltk.CFG.fromstring("""
  S -> NP VP
  PP -> P NP
  NP -> Det N | Det N PP | 'I'
  VP -> V NP | VP PP
  Det -> 'an' | 'my'
  N -> 'elephant' | 'backyard'
  V -> 'shot'
  P -> 'in'
  """)
sent = ['I', 'shot', 'an', 'elephant', 'in', 'my', 'backyard']
parser = nltk.ChartParser(groucho_grammar)
for tree in parser.parse(sent):
    print(tree)
tree.pretty_print()
