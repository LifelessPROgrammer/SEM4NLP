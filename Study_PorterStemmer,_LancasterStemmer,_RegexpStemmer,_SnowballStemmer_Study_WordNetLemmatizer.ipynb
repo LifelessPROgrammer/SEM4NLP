# PorterStemmer:
import nltk
from nltk.stem import PorterStemmer
word_stemmer = PorterStemmer()
print(word_stemmer.stem('running'))

# LancasterStemmer:
import nltk
from nltk.stem import LancasterStemmer
Lanc_stemmer = LancasterStemmer()
print(Lanc_stemmer.stem('playing'))

# RegexpStemmer:
import nltk
from nltk.stem import RegexpStemmer
Reg_stemmer = RegexpStemmer('ing$|s$|e$|able$')
print(Reg_stemmer.stem('going'))

# snowballstemmer:
import nltk
from nltk.stem import SnowballStemmer
english_stemmer = SnowballStemmer('english')
print(english_stemmer.stem ('going'))

# WordNetLemmatizer:
from nltk.stem import WordNetLemmatizer
lemmatizer = WordNetLemmatizer()
print("word :\tlemma")

nltk.download('wordnet')
print("rocks :", lemmatizer.lemmatize("rocks"))
print("corpora :", lemmatizer.lemmatize("corpora"))

